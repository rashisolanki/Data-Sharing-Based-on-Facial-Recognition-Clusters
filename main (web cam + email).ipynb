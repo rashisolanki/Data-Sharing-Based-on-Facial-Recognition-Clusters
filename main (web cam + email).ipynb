{
 "cells": [
  {
   "cell_type": "code",
   "execution_count": 1,
   "id": "e10f6164",
   "metadata": {},
   "outputs": [],
   "source": [
    "import face_recognition\n",
    "import os\n",
    "from pathlib import Path\n",
    "from shutil import copyfile\n",
    "import tkinter as tk\n",
    "from tkinter import filedialog\n",
    "import cv2\n",
    "import smtplib\n",
    "from email.mime.multipart import MIMEMultipart\n",
    "from email.mime.text import MIMEText\n",
    "from email.mime.base import MIMEBase\n",
    "from email import encoders\n",
    "import zipfile  "
   ]
  },
  {
   "cell_type": "code",
   "execution_count": 2,
   "id": "45637b92",
   "metadata": {},
   "outputs": [],
   "source": [
    "cwd = os.getcwd()\n",
    "p = os.path.join(cwd, 'dataset' )"
   ]
  },
  {
   "cell_type": "code",
   "execution_count": 3,
   "id": "acabc622",
   "metadata": {},
   "outputs": [],
   "source": [
    "results_path = os.path.join(cwd, 'results')\n",
    "encodings = {}\n",
    "curr_image_cluster_id = None"
   ]
  },
  {
   "cell_type": "code",
   "execution_count": 4,
   "id": "62e70a9d",
   "metadata": {},
   "outputs": [],
   "source": [
    "# SMTP email configuration\n",
    "SMTP_SERVER = 'smtp.gmail.com'\n",
    "SMTP_PORT = 587\n",
    "SMTP_USERNAME = 'rashisolanki2002@gmail.com'\n",
    "SMTP_PASSWORD = 'ttes rjqa dlei phsh'"
   ]
  },
  {
   "cell_type": "code",
   "execution_count": 5,
   "id": "acef2632",
   "metadata": {},
   "outputs": [],
   "source": [
    "def process_file(filepath):\n",
    "    img = face_recognition.load_image_file(filepath)\n",
    "    fe = face_recognition.face_encodings(img)\n",
    "    if fe:\n",
    "        fe = fe[0]\n",
    "    else:\n",
    "        return\n",
    "    action_taken = False\n",
    "    curr_image_cluster_id = None\n",
    "    for cluster_id, cluster_encodings in encodings.items():\n",
    "        results = face_recognition.compare_faces(cluster_encodings, fe)\n",
    "        if all(results):\n",
    "            curr_image_cluster_id = cluster_id\n",
    "            encodings.get(cluster_id).append(fe)\n",
    "            action_taken = True\n",
    "\n",
    "    if not action_taken:\n",
    "        curr_image_cluster_id = \"cluster_%s\" % (len(encodings.keys()) + 1)\n",
    "        print(\"creating new cluster %s\" % curr_image_cluster_id)\n",
    "        encodings[curr_image_cluster_id] = [fe]\n",
    "    curr_cluster = os.path.join(results_path, curr_image_cluster_id)\n",
    "    curr_cluster_dir = Path(curr_cluster)\n",
    "    curr_cluster_dir.mkdir(parents=True, exist_ok=True)\n",
    "    copyfile(filepath, os.path.join(curr_cluster_dir, os.path.basename(filepath)))"
   ]
  },
  {
   "cell_type": "code",
   "execution_count": 7,
   "id": "1de888e7",
   "metadata": {},
   "outputs": [],
   "source": [
    "def send_email(subject, body, to_email, attachment_path=None):\n",
    "    \n",
    "    msg = MIMEMultipart()\n",
    "    msg['From'] = SMTP_USERNAME\n",
    "    msg['To'] = to_email\n",
    "    msg['Subject'] = subject\n",
    "    msg.attach(MIMEText(body, 'plain'))\n",
    "\n",
    "    if attachment_path:\n",
    "        if os.path.isfile(attachment_path):\n",
    "            attachment = open(attachment_path, 'rb')\n",
    "            part = MIMEBase('application', 'octet-stream')\n",
    "            part.set_payload(attachment.read())\n",
    "            encoders.encode_base64(part)\n",
    "            part.add_header('Content-Disposition', f'attachment; filename= {os.path.basename(attachment_path)}')\n",
    "            msg.attach(part)\n",
    "        else:\n",
    "            print(\"Attachment file not found:\", attachment_path)\n",
    "\n",
    "    try:\n",
    "        server = smtplib.SMTP(SMTP_SERVER, SMTP_PORT)\n",
    "        server.starttls()\n",
    "        server.login(SMTP_USERNAME, SMTP_PASSWORD)\n",
    "        text = msg.as_string()\n",
    "        server.sendmail(SMTP_USERNAME, to_email, text)\n",
    "        server.quit()\n",
    "        print(\"Email sent successfully.\")\n",
    "    except Exception as e:\n",
    "        print(\"Error sending email:\", str(e))"
   ]
  },
  {
   "cell_type": "code",
   "execution_count": 8,
   "id": "d564eb14",
   "metadata": {},
   "outputs": [],
   "source": [
    "# Function to process a single image and assign it to a cluster\n",
    "def process_image(img):\n",
    "    global curr_image_cluster_id\n",
    "\n",
    "    # Detect faces in the image\n",
    "    face_locations = face_recognition.face_locations(img)\n",
    "\n",
    "    if not face_locations:\n",
    "        return\n",
    "\n",
    "    fe = face_recognition.face_encodings(img, known_face_locations=face_locations)[0]\n",
    "\n",
    "    action_taken = False\n",
    "\n",
    "    for cluster_id, cluster_encodings in encodings.items():\n",
    "        results = face_recognition.compare_faces(cluster_encodings, fe)\n",
    "        print(\"results %s %s\" % (results, cluster_id))\n",
    "        if all(results):\n",
    "            print(\"cluster_id %s\" % cluster_id)\n",
    "            curr_image_cluster_id = cluster_id\n",
    "            encodings.get(cluster_id).append(fe)\n",
    "            action_taken = True\n",
    "\n",
    "    if not action_taken:\n",
    "        curr_image_cluster_id = \"cluster_%s\" % (len(encodings.keys()) + 1)\n",
    "        print(\"creating new cluster %s\" % curr_image_cluster_id)\n",
    "        encodings[curr_image_cluster_id] = [fe]\n",
    "\n",
    "    return curr_image_cluster_id"
   ]
  },
  {
   "cell_type": "code",
   "execution_count": null,
   "id": "ca0e8b1f",
   "metadata": {
    "scrolled": true
   },
   "outputs": [
    {
     "name": "stdout",
     "output_type": "stream",
     "text": [
      "File: /Users/rashisolanki/Downloads/face-clustering/dataset/d 4.jpg\n",
      "file 1/33 - 0 encodings\n",
      "\n",
      "File: /Users/rashisolanki/Downloads/face-clustering/dataset/d 2.jpg\n",
      "file 2/33 - 0 encodings\n",
      "\n",
      "File: /Users/rashisolanki/Downloads/face-clustering/dataset/d 3.jpg\n",
      "file 3/33 - 0 encodings\n",
      "\n",
      "File: /Users/rashisolanki/Downloads/face-clustering/dataset/d 1.jpg\n",
      "file 4/33 - 0 encodings\n",
      "\n",
      "File: /Users/rashisolanki/Downloads/face-clustering/dataset/sir 1.jpg\n",
      "file 5/33 - 0 encodings\n",
      "\n",
      "File: /Users/rashisolanki/Downloads/face-clustering/dataset/sir 2.jpg\n",
      "file 6/33 - 0 encodings\n",
      "\n",
      "File: /Users/rashisolanki/Downloads/face-clustering/dataset/o 8.jpg\n",
      "file 7/33 - 0 encodings\n",
      "\n",
      "File: /Users/rashisolanki/Downloads/face-clustering/dataset/o 5.jpg\n",
      "file 8/33 - 0 encodings\n",
      "\n",
      "File: /Users/rashisolanki/Downloads/face-clustering/dataset/p 1.jpg\n",
      "file 9/33 - 0 encodings\n",
      "\n",
      "File: /Users/rashisolanki/Downloads/face-clustering/dataset/k 1.jpg\n",
      "file 10/33 - 0 encodings\n",
      "\n",
      "File: /Users/rashisolanki/Downloads/face-clustering/dataset/r 3.jpg\n",
      "file 11/33 - 0 encodings\n",
      "\n",
      "File: /Users/rashisolanki/Downloads/face-clustering/dataset/r 2.jpg\n",
      "file 12/33 - 0 encodings\n",
      "\n",
      "File: /Users/rashisolanki/Downloads/face-clustering/dataset/p2.jpg\n"
     ]
    }
   ],
   "source": [
    "curr = 0\n",
    "for subdir, dirs, files in os.walk(p):\n",
    "    total = len(files)\n",
    "    for file in files:\n",
    "        filepath = os.path.join(subdir, file)\n",
    "        print(\"File: %s\" % filepath)\n",
    "        process_file(filepath)\n",
    "        curr += 1\n",
    "        print(\"file %s/%s - %s encodings\" % (curr, total, len(encodings)))\n",
    "        print()"
   ]
  },
  {
   "cell_type": "code",
   "execution_count": 7,
   "id": "11447a15",
   "metadata": {},
   "outputs": [
    {
     "name": "stdout",
     "output_type": "stream",
     "text": [
      "There are 8 different people\n"
     ]
    }
   ],
   "source": [
    "print(\"There are %s different people\" % len(encodings.keys()))"
   ]
  },
  {
   "cell_type": "code",
   "execution_count": 10,
   "id": "011c96ff",
   "metadata": {
    "scrolled": true
   },
   "outputs": [
    {
     "name": "stdout",
     "output_type": "stream",
     "text": [
      "results [True, True, True, True, True, True, True, True, True, True, True, True] cluster_1\n",
      "cluster_id cluster_1\n",
      "results [True, True, True, True, True, True, True, True, True, True, True, True, True] cluster_1\n",
      "cluster_id cluster_1\n",
      "results [True, True, True, True, True, True, True, True, True, True, True, True, True, True] cluster_1\n",
      "cluster_id cluster_1\n",
      "results [True, True, True, True, True, True, True, True, True, True, True, True, True, True, True] cluster_1\n",
      "cluster_id cluster_1\n",
      "results [True, True, True, True, True, True, True, True, True, True, True, True, True, True, True, True] cluster_1\n",
      "cluster_id cluster_1\n",
      "results [True, True, True, True, True, True, True, True, True, True, True, True, True, True, True, True, True] cluster_1\n",
      "cluster_id cluster_1\n",
      "results [True, True, True, True, True, True, True, True, True, True, True, True, True, True, True, True, True, True] cluster_1\n",
      "cluster_id cluster_1\n",
      "results [True, True, True, True, True, True, True, True, True, True, True, True, True, True, True, True, True, True, True] cluster_1\n",
      "cluster_id cluster_1\n",
      "results [True, True, True, True, True, True, True, True, True, True, True, True, True, True, True, True, True, True, True, True] cluster_1\n",
      "cluster_id cluster_1\n",
      "results [True, True, True, True, True, True, True, True, True, True, True, True, True, True, True, True, True, True, True, True, True] cluster_1\n",
      "cluster_id cluster_1\n",
      "results [True, True, True, True, True, True, True, True, True, True, True, True, True, True, True, True, True, True, True, True, True, True] cluster_1\n",
      "cluster_id cluster_1\n",
      "results [True, True, True, True, True, True, True, True, True, True, True, True, True, True, True, True, True, True, True, True, True, True, True] cluster_1\n",
      "cluster_id cluster_1\n",
      "results [True, True, True, True, True, True, True, True, True, True, True, True, True, True, True, True, True, True, True, True, True, True, True, True] cluster_1\n",
      "cluster_id cluster_1\n",
      "results [True, True, True, True, True, True, True, True, True, True, True, True, True, True, True, True, True, True, True, True, True, True, True, True, True] cluster_1\n",
      "cluster_id cluster_1\n",
      "results [True, True, True, True, True, True, True, True, True, True, True, True, True, True, True, True, True, True, True, True, True, True, True, True, True, True] cluster_1\n",
      "cluster_id cluster_1\n",
      "results [True, True, True, True, True, True, True, True, True, True, True, True, True, True, True, True, True, True, True, True, True, True, True, True, True, True, True] cluster_1\n",
      "cluster_id cluster_1\n",
      "results [True, True, True, True, True, True, True, True, True, True, True, True, True, True, True, True, True, True, True, True, True, True, True, True, True, True, True, True] cluster_1\n",
      "cluster_id cluster_1\n",
      "results [True, True, True, True, True, True, True, True, True, True, True, True, True, True, True, True, True, True, True, True, True, True, True, True, True, True, True, True, True] cluster_1\n",
      "cluster_id cluster_1\n",
      "results [True, True, True, True, True, True, True, True, True, True, True, True, True, True, True, True, True, True, True, True, True, True, True, True, True, True, True, True, True, True] cluster_1\n",
      "cluster_id cluster_1\n",
      "results [True, True, True, True, True, True, True, True, True, True, True, True, True, True, True, True, True, True, True, True, True, True, True, True, True, True, True, True, True, True, True] cluster_1\n",
      "cluster_id cluster_1\n",
      "results [True, True, True, True, True, True, True, True, True, True, True, True, True, True, True, True, True, True, True, True, True, True, True, True, True, True, True, True, True, True, True, True] cluster_1\n",
      "cluster_id cluster_1\n",
      "results [True, True, True, True, True, True, True, True, True, True, True, True, True, True, True, True, True, True, True, True, True, True, True, True, True, True, True, True, True, True, True, True, True] cluster_1\n",
      "cluster_id cluster_1\n",
      "results [True, True, True, True, True, True, True, True, True, True, True, True, True, True, True, True, True, True, True, True, True, True, True, True, True, True, True, True, True, True, True, True, True, True] cluster_1\n",
      "cluster_id cluster_1\n",
      "results [True, True, True, True, True, True, True, True, True, True, True, True, True, True, True, True, True, True, True, True, True, True, True, True, True, True, True, True, True, True, True, True, True, True, True] cluster_1\n",
      "cluster_id cluster_1\n",
      "results [True, True, True, True, True, True, True, True, True, True, True, True, True, True, True, True, True, True, True, True, True, True, True, True, True, True, True, True, True, True, True, True, True, True, True, True] cluster_1\n",
      "cluster_id cluster_1\n",
      "results [True, True, True, True, True, True, True, True, True, True, True, True, True, True, True, True, True, True, True, True, True, True, True, True, True, True, True, True, True, True, True, True, True, True, True, True, True] cluster_1\n",
      "cluster_id cluster_1\n",
      "results [True, True, True, True, True, True, True, True, True, True, True, True, True, True, True, True, True, True, True, True, True, True, True, True, True, True, True, True, True, True, True, True, True, True, True, True, True, True] cluster_1\n",
      "cluster_id cluster_1\n",
      "results [True, True, True, True, True, True, True, True, True, True, True, True, True, True, True, True, True, True, True, True, True, True, True, True, True, True, True, True, True, True, True, True, True, True, True, True, True, True, True] cluster_1\n",
      "cluster_id cluster_1\n"
     ]
    }
   ],
   "source": [
    "# Initialize OpenCV VideoCapture for webcam\n",
    "cap = cv2.VideoCapture(0)\n",
    "\n",
    "while True:\n",
    "    ret, frame = cap.read()\n",
    "    # Convert the frame to RGB format (required by face_recognition)\n",
    "    rgb_frame = cv2.cvtColor(frame, cv2.COLOR_BGR2RGB)\n",
    "\n",
    "    # Process the detected face and get the cluster ID\n",
    "    cluster_id = process_image(rgb_frame)\n",
    "\n",
    "    # Display cluster ID on the frame\n",
    "    if cluster_id:\n",
    "        cv2.putText(frame, cluster_id, (10, 30), cv2.FONT_HERSHEY_SIMPLEX, 1, (0, 255, 0), 2)\n",
    "\n",
    "    cv2.imshow('Webcam', frame)\n",
    "\n",
    "    if cv2.waitKey(1) & 0xFF == ord('q'):\n",
    "        break"
   ]
  },
  {
   "cell_type": "code",
   "execution_count": 11,
   "id": "4dd47f89",
   "metadata": {},
   "outputs": [],
   "source": [
    "# Release the webcam and close OpenCV windows\n",
    "cap.release()\n",
    "cv2.destroyAllWindows()"
   ]
  },
  {
   "cell_type": "code",
   "execution_count": 12,
   "id": "72ec705a",
   "metadata": {
    "scrolled": true
   },
   "outputs": [
    {
     "name": "stdout",
     "output_type": "stream",
     "text": [
      "Enter the recipient's email address: rashimahavir.solanki2020@vitstudent.ac.in\n"
     ]
    }
   ],
   "source": [
    "recipient_email = input(\"Enter the recipient's email address: \")"
   ]
  },
  {
   "cell_type": "code",
   "execution_count": 14,
   "id": "84ebe420",
   "metadata": {},
   "outputs": [
    {
     "name": "stdout",
     "output_type": "stream",
     "text": [
      "Email sent successfully.\n"
     ]
    },
    {
     "ename": "SyntaxError",
     "evalue": "'break' outside loop (3419260034.py, line 13)",
     "output_type": "error",
     "traceback": [
      "\u001b[0;36m  Input \u001b[0;32mIn [14]\u001b[0;36m\u001b[0m\n\u001b[0;31m    break\u001b[0m\n\u001b[0m    ^\u001b[0m\n\u001b[0;31mSyntaxError\u001b[0m\u001b[0;31m:\u001b[0m 'break' outside loop\n"
     ]
    }
   ],
   "source": [
    "# Create a zip archive of the cluster directory\n",
    "email_subject = \"Pictures from the event\"\n",
    "email_body = \"Thank you for attending the event. Here is a folder of your pictures.\"\n",
    "cluster_directory = os.path.join(results_path, cluster_id)\n",
    "zip_filename = f\"{cluster_id}.zip\"\n",
    "with zipfile.ZipFile(zip_filename, 'w', zipfile.ZIP_DEFLATED) as zipf:\n",
    "    for root, _, files in os.walk(cluster_directory):\n",
    "        for file in files:\n",
    "            file_path = os.path.join(root, file)\n",
    "            arcname = os.path.relpath(file_path, cluster_directory)\n",
    "            zipf.write(file_path, arcname=arcname)\n",
    "send_email(email_subject, email_body, recipient_email, zip_filename)"
   ]
  },
  {
   "cell_type": "code",
   "execution_count": null,
   "id": "158b6059",
   "metadata": {},
   "outputs": [],
   "source": []
  }
 ],
 "metadata": {
  "kernelspec": {
   "display_name": "Python 3 (ipykernel)",
   "language": "python",
   "name": "python3"
  },
  "language_info": {
   "codemirror_mode": {
    "name": "ipython",
    "version": 3
   },
   "file_extension": ".py",
   "mimetype": "text/x-python",
   "name": "python",
   "nbconvert_exporter": "python",
   "pygments_lexer": "ipython3",
   "version": "3.9.12"
  }
 },
 "nbformat": 4,
 "nbformat_minor": 5
}
